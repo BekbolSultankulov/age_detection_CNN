{
 "cells": [
  {
   "cell_type": "code",
   "execution_count": null,
   "id": "123b3a10",
   "metadata": {},
   "outputs": [],
   "source": [
    "#import the needed libraries\n",
    "import pandas as pd\n",
    "import numpy as np\n",
    "import seaborn as sns\n",
    "import matplotlib.pyplot as plt\n",
    "import warnings\n",
    "warnings.filterwarnings('ignore')\n",
    "import os\n",
    "import cv2\n",
    "from kerastuner.tuners import RandomSearch\n",
    "from sklearn.model_selection import train_test_split\n",
    "import tensorflow \n",
    "from tensorflow import keras\n",
    "from keras.utils.np_utils import to_categorical\n",
    "from sklearn.metrics import confusion_matrix\n",
    "from keras.models import Sequential,load_model,Model\n",
    "from keras.layers import Dense,Dropout,Flatten,Conv2D,MaxPool2D,ZeroPadding2D,Activation\n",
    "from tensorflow.keras.optimizers import RMSprop,Adam\n",
    "from keras.preprocessing.image import ImageDataGenerator\n",
    "from keras.callbacks import ReduceLROnPlateau\n",
    "from keras.layers import Conv2D,MaxPool2D,Dense,Dropout,BatchNormalization,Flatten,Input\n",
    "import itertools"
   ]
  },
  {
   "cell_type": "code",
   "execution_count": null,
   "id": "c0bf32fd",
   "metadata": {},
   "outputs": [],
   "source": [
    "#\n",
    "path_folder=['test']\n",
    "result=[]\n",
    "for i in path_folder:    \n",
    "    path=f'C:\\\\Users\\\\svnduw\\\\Desktop\\\\Bekbol\\\\Bekbol project\\\\age detection\\\\20-50\\{i}'\n",
    "    folders=os.listdir(path)\n",
    "    df=pd.DataFrame(columns=['type','link','age'])\n",
    "    for folder in folders:\n",
    "        folder_files=os.listdir(f'{path}\\\\{folder}')\n",
    "        path_link=f'{path}\\\\{folder}'\n",
    "        files=os.listdir(path_link)\n",
    "        for file in files:\n",
    "            link=f'{path_link}\\\\{file}'\n",
    "            age=int(folder)\n",
    "            result.append({\n",
    "                'type':i,\n",
    "                'image_name':file,\n",
    "                'age':age,\n",
    "                'link':link\n",
    "            })\n",
    "df=pd.json_normalize(result)"
   ]
  },
  {
   "cell_type": "code",
   "execution_count": null,
   "id": "4dd26c7d",
   "metadata": {},
   "outputs": [],
   "source": [
    "for index,row in df.iterrows():\n",
    "    if row['age']>19 and row['age']<=25:\n",
    "        df.at[index,'label']=0\n",
    "    elif row['age']>25 and row['age']<=30:\n",
    "        df.at[index,'label']=1\n",
    "    elif row['age']>30 and row['age']<=35:\n",
    "        df.at[index,'label']=2\n",
    "    elif row['age']>35 and row['age']<=40:\n",
    "        df.at[index,'label']=3\n",
    "    elif row['age']>40 and row['age']<=45:\n",
    "        df.at[index,'label']=4\n",
    "    else:\n",
    "        df.at[index,'label']=5        "
   ]
  },
  {
   "cell_type": "code",
   "execution_count": null,
   "id": "39e5e20e",
   "metadata": {},
   "outputs": [],
   "source": [
    "print(df.type[6])\n",
    "print(df.image_name[6])\n",
    "print(df.age[6])\n",
    "print(df.link[6])"
   ]
  },
  {
   "cell_type": "code",
   "execution_count": null,
   "id": "85123212",
   "metadata": {},
   "outputs": [],
   "source": [
    "df=df.sample(frac=1).reset_index(drop=True) #sample or shuffle dataframe rows\n",
    "train=df.copy()"
   ]
  },
  {
   "cell_type": "code",
   "execution_count": null,
   "id": "74e9b444",
   "metadata": {},
   "outputs": [],
   "source": [
    "train.head()"
   ]
  },
  {
   "cell_type": "code",
   "execution_count": null,
   "id": "b9f3a1d4",
   "metadata": {},
   "outputs": [],
   "source": [
    "temp=train[:7000]\n",
    "X=[]\n",
    "count=0\n",
    "for index,row in temp.iterrows():\n",
    "    image = cv2.imread(row['link'])\n",
    "    gray = cv2.cvtColor(image, cv2.COLOR_BGR2GRAY)\n",
    "    gray=gray/255\n",
    "    X.append(gray)\n",
    "    count+=1\n",
    "    print(f'{count}/{len(temp)}',end='\\r')"
   ]
  },
  {
   "cell_type": "code",
   "execution_count": null,
   "id": "e5ee3ab9",
   "metadata": {},
   "outputs": [],
   "source": [
    "Y_train = temp[\"label\"]\n",
    "X_train=np.asarray(X)"
   ]
  },
  {
   "cell_type": "code",
   "execution_count": null,
   "id": "97ab1271",
   "metadata": {},
   "outputs": [],
   "source": [
    "plt.figure(figsize=(15,7))\n",
    "g = sns.countplot(Y_train, palette=\"icefire\")\n",
    "plt.title(\"Number of ages\")\n"
   ]
  },
  {
   "cell_type": "code",
   "execution_count": null,
   "id": "fd40a188",
   "metadata": {},
   "outputs": [],
   "source": [
    "img = X_train[6]\n",
    "img = img.reshape((128,128,1))\n",
    "plt.imshow(img,cmap='gray')\n",
    "plt.title(Y_train[6])\n",
    "plt.show()\n",
    "print(temp['link'][6])"
   ]
  },
  {
   "cell_type": "code",
   "execution_count": null,
   "id": "36d72f8e",
   "metadata": {},
   "outputs": [],
   "source": [
    "Y_train = to_categorical(Y_train, num_classes = 51)\n",
    "print(\"y_train shape: \",Y_train.shape)\n",
    "X_train = X_train.reshape(-1,128,128,1).astype(\"float\") \n",
    "print(\"x_train shape: \",X_train.shape)"
   ]
  },
  {
   "cell_type": "code",
   "execution_count": null,
   "id": "4c20d657",
   "metadata": {},
   "outputs": [],
   "source": [
    "X_train, X_test, Y_train, Y_test = train_test_split(X_train, Y_train, test_size = 0.1, random_state=42)\n",
    "print(\"x_train shape\",X_train.shape,type(X_train))\n",
    "print(\"x_test shape\",X_test.shape,type(X_test))\n",
    "print(\"y_train shape\",Y_train.shape,type(Y_train))\n",
    "print(\"y_test shape\",Y_test.shape,type(Y_test))"
   ]
  },
  {
   "cell_type": "code",
   "execution_count": null,
   "id": "4a9c2477",
   "metadata": {},
   "outputs": [],
   "source": [
    "model = Sequential()\n",
    "model.add(keras.layers.AveragePooling2D(3,3,input_shape=(128,128,1)))\n",
    "model.add(Conv2D(128,3,activation='relu'))\n",
    "model.add(Conv2D(64,3,activation='relu'))\n",
    "model.add(keras.layers.MaxPool2D(2,2))\n",
    "model.add(Flatten())\n",
    "model.add(Dense(128))\n",
    "model.add(Dense(1))\n",
    "model.add(Activation(\"softmax\"))\n",
    "model.compile(optimizer = optimizer, loss = \"categorical_crossentropy\", metrics = [\"accuracy\"])"
   ]
  },
  {
   "cell_type": "code",
   "execution_count": null,
   "id": "f1844a37",
   "metadata": {},
   "outputs": [],
   "source": [
    "model.fit(X_train,Y_train,epochs=5,batch_size=64)"
   ]
  },
  {
   "cell_type": "code",
   "execution_count": null,
   "id": "284add9d",
   "metadata": {},
   "outputs": [],
   "source": [
    "model.evaluate(X_test,Y_test)"
   ]
  },
  {
   "cell_type": "code",
   "execution_count": null,
   "id": "c474bf62",
   "metadata": {},
   "outputs": [],
   "source": [
    "from kerastuner.tuners import RandomSearch\n",
    "def build_model(hp):\n",
    "    model=keras.Sequential()\n",
    "    model.add(keras.layers.AveragePooling2D(6,3,input_shape=(128,128,1)))\n",
    "    for i in range(hp.Int('Conv Layers',min_value=0,max_value=3)):\n",
    "        model.add(keras.layers.Conv2D(hp.Choice(f'layer_{i}_filters',[16,32,64]),3,activation='relu'))     \n",
    "    model.add(keras.layers.MaxPool2D(2,2))\n",
    "    model.add(keras.layers.Dropout(0.5))\n",
    "    model.add(keras.layers.Flatten())\n",
    "    model.add(keras.layers.Dense(128,activation='relu'))\n",
    "    model.add(keras.layers.Dense(19,activation='softmax'))    \n",
    "    \n",
    "    model.compile(optimizer='adam',\n",
    "             loss=keras.losses.SparseCategoricalCrossentropy(),\n",
    "             metrics=['accuracy'])\n",
    "    return model"
   ]
  },
  {
   "cell_type": "code",
   "execution_count": null,
   "id": "b0bd6888",
   "metadata": {},
   "outputs": [],
   "source": [
    "tuner = RandomSearch(build_model,\n",
    "                     objective='val_accuracy',\n",
    "                     max_trials=6\n",
    "                     )"
   ]
  },
  {
   "cell_type": "code",
   "execution_count": null,
   "id": "26a1292c",
   "metadata": {},
   "outputs": [],
   "source": [
    "tuner.search(X_train,Y_train,validation_data=(X_val,Y_val),epochs=10,batch_size=64)"
   ]
  },
  {
   "cell_type": "code",
   "execution_count": null,
   "id": "85704dda",
   "metadata": {},
   "outputs": [],
   "source": [
    "best_model=tuner.get_best_models()[0]"
   ]
  },
  {
   "cell_type": "code",
   "execution_count": null,
   "id": "1caaf196",
   "metadata": {},
   "outputs": [],
   "source": [
    "best_model.evaluate(X_val,Y_val)"
   ]
  },
  {
   "cell_type": "code",
   "execution_count": null,
   "id": "03e8836f",
   "metadata": {},
   "outputs": [],
   "source": [
    "best_model.summary()"
   ]
  }
 ],
 "metadata": {
  "kernelspec": {
   "display_name": "Python 3",
   "language": "python",
   "name": "python3"
  },
  "language_info": {
   "codemirror_mode": {
    "name": "ipython",
    "version": 3
   },
   "file_extension": ".py",
   "mimetype": "text/x-python",
   "name": "python",
   "nbconvert_exporter": "python",
   "pygments_lexer": "ipython3",
   "version": "3.8.8"
  }
 },
 "nbformat": 4,
 "nbformat_minor": 5
}
